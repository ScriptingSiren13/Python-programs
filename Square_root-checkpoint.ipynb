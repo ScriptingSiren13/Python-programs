{
 "cells": [
  {
   "cell_type": "markdown",
   "id": "41bbd2fa-6634-4d33-b812-5cee86b157f7",
   "metadata": {},
   "source": [
    "<h2>SOLUTION-1 (Using Exponentiation)</h2>"
   ]
  },
  {
   "cell_type": "code",
   "execution_count": 1,
   "id": "5ab83bfd-fcb8-42b3-8a52-bf60d51ab89d",
   "metadata": {},
   "outputs": [
    {
     "name": "stdin",
     "output_type": "stream",
     "text": [
      "enter a number here:  9\n"
     ]
    },
    {
     "name": "stdout",
     "output_type": "stream",
     "text": [
      "The square root of a number is 3.0\n"
     ]
    }
   ],
   "source": [
    "num=int(input(\"enter a number here: \"))\n",
    "sr=num**(1/2)\n",
    "print(\"The square root of a number is\",sr)"
   ]
  },
  {
   "cell_type": "markdown",
   "id": "5748b09a-5467-413b-b5a1-cfba93b4ead4",
   "metadata": {},
   "source": [
    "<h2>SOLUTION-1 (Using Math Module)</h2>"
   ]
  },
  {
   "cell_type": "code",
   "execution_count": 2,
   "id": "96c1d88b-119e-4dfa-8c6c-c8fc586cecb0",
   "metadata": {},
   "outputs": [
    {
     "name": "stdin",
     "output_type": "stream",
     "text": [
      "enter a number here: 9\n"
     ]
    },
    {
     "name": "stdout",
     "output_type": "stream",
     "text": [
      "The square root of the number is 3.0\n"
     ]
    }
   ],
   "source": [
    "import math\n",
    "num=int(input(\"enter a number here:\" ))\n",
    "sr=math.sqrt(num)\n",
    "print(\"The square root of the number is\", sr)"
   ]
  },
  {
   "cell_type": "code",
   "execution_count": null,
   "id": "cfbb0b0a-6bb7-46cc-b853-efa354964b6b",
   "metadata": {},
   "outputs": [],
   "source": []
  }
 ],
 "metadata": {
  "kernelspec": {
   "display_name": "Python 3 (ipykernel)",
   "language": "python",
   "name": "python3"
  },
  "language_info": {
   "codemirror_mode": {
    "name": "ipython",
    "version": 3
   },
   "file_extension": ".py",
   "mimetype": "text/x-python",
   "name": "python",
   "nbconvert_exporter": "python",
   "pygments_lexer": "ipython3",
   "version": "3.12.4"
  }
 },
 "nbformat": 4,
 "nbformat_minor": 5
}
