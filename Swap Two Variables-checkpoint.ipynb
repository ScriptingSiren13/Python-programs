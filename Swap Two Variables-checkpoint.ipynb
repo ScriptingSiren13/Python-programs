{
 "cells": [
  {
   "cell_type": "markdown",
   "id": "79c506c2-f610-4bd9-84c7-225e50f6fcbd",
   "metadata": {},
   "source": [
    "<h2>USING A THIRD VARIABLE</h2>"
   ]
  },
  {
   "cell_type": "code",
   "execution_count": 15,
   "id": "2caec313-a43c-41f2-9306-f39401ce1445",
   "metadata": {},
   "outputs": [],
   "source": [
    "x=13\n",
    "y=12"
   ]
  },
  {
   "cell_type": "code",
   "execution_count": 16,
   "id": "71f64046-3e80-4c79-b5dc-4fdfb5b8fe0f",
   "metadata": {},
   "outputs": [
    {
     "name": "stdout",
     "output_type": "stream",
     "text": [
      "The value of temp is 13\n",
      "The value of x is 12\n",
      "The value of y is 13\n"
     ]
    }
   ],
   "source": [
    "temp=x\n",
    "print(\"The value of temp is\", temp)\n",
    "\n",
    "x=y\n",
    "print(\"The value of x is\", x)\n",
    "\n",
    "y=temp\n",
    "print(\"The value of y is\", y)"
   ]
  },
  {
   "cell_type": "code",
   "execution_count": 17,
   "id": "04f09d27-66a4-49e2-aa40-b9d3fadc8fe3",
   "metadata": {},
   "outputs": [
    {
     "name": "stdout",
     "output_type": "stream",
     "text": [
      "The value of x is 12\n",
      "The value of y is 13\n"
     ]
    }
   ],
   "source": [
    "print(\"The value of x is\", x)\n",
    "print(\"The value of y is\", y)"
   ]
  },
  {
   "cell_type": "markdown",
   "id": "c517e4fa-8ee7-4d72-98da-6cf31718eab2",
   "metadata": {},
   "source": [
    "<h2>WITHOUT USING A THIRD VARIABLE</h2>"
   ]
  },
  {
   "cell_type": "code",
   "execution_count": 18,
   "id": "a3cb0331-5903-4d84-b43b-175206632d65",
   "metadata": {},
   "outputs": [
    {
     "name": "stdout",
     "output_type": "stream",
     "text": [
      "the value of x is 12\n",
      "the value of y is 13\n"
     ]
    }
   ],
   "source": [
    "x=13\n",
    "y=12\n",
    "x,y=y,x\n",
    "print(\"the value of x is\",x)\n",
    "print(\"the value of y is\",y)"
   ]
  },
  {
   "cell_type": "code",
   "execution_count": null,
   "id": "bbb528f3-7601-46e4-bbf1-11f74994b43b",
   "metadata": {},
   "outputs": [],
   "source": []
  }
 ],
 "metadata": {
  "kernelspec": {
   "display_name": "Python 3 (ipykernel)",
   "language": "python",
   "name": "python3"
  },
  "language_info": {
   "codemirror_mode": {
    "name": "ipython",
    "version": 3
   },
   "file_extension": ".py",
   "mimetype": "text/x-python",
   "name": "python",
   "nbconvert_exporter": "python",
   "pygments_lexer": "ipython3",
   "version": "3.12.4"
  }
 },
 "nbformat": 4,
 "nbformat_minor": 5
}
