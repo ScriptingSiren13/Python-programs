{
 "cells": [
  {
   "cell_type": "markdown",
   "id": "f5df663c-070a-49e7-9230-d99567a25e1a",
   "metadata": {},
   "source": [
    "<h2 style='color:#DE006F'>USING LOOPS</h2>"
   ]
  },
  {
   "cell_type": "code",
   "execution_count": 3,
   "id": "698523b9-db4e-49f0-8955-9c712e9e83e0",
   "metadata": {},
   "outputs": [
    {
     "name": "stdin",
     "output_type": "stream",
     "text": [
      "enter the number 2\n"
     ]
    },
    {
     "name": "stdout",
     "output_type": "stream",
     "text": [
      "2\n"
     ]
    }
   ],
   "source": [
    "fact = 1\n",
    "num=int(input('enter the number'))\n",
    "\n",
    "if num<0:\n",
    "    print('factorial does not exist');\n",
    "elif num == 0:\n",
    "    print('factorial of 0 is ',1);\n",
    "else:\n",
    "    for i in range(1, num+1):\n",
    "        fact=fact*i\n",
    "print(fact)"
   ]
  },
  {
   "cell_type": "markdown",
   "id": "6e88ec28-4364-4bf8-877a-23c0d69d6aad",
   "metadata": {},
   "source": [
    "<h2 style='color:#DE006F'>USING RECURSION</h2>"
   ]
  },
  {
   "cell_type": "markdown",
   "id": "bc6ccc22-80f0-41df-b543-2ba112679959",
   "metadata": {},
   "source": [
    "<h5 style='color:red'>For a predefined number:</h5>"
   ]
  },
  {
   "cell_type": "code",
   "execution_count": 6,
   "id": "c1ce8772-435f-4622-b36d-d506bd8dfd7c",
   "metadata": {},
   "outputs": [
    {
     "name": "stdout",
     "output_type": "stream",
     "text": [
      "720\n"
     ]
    }
   ],
   "source": [
    "def fact(a):\n",
    "    if a==0 or a==1:\n",
    "        return 1\n",
    "    else:\n",
    "        return a * fact(a-1)\n",
    "a=6\n",
    "print(fact(a))"
   ]
  },
  {
   "cell_type": "markdown",
   "id": "46cb41de-9ae6-4d9b-80cc-e0ea8040487c",
   "metadata": {},
   "source": [
    "<h4 style='color:red'>For input from user:</h4>"
   ]
  },
  {
   "cell_type": "code",
   "execution_count": 8,
   "id": "baa1bb10-a5f9-4f28-bee4-a8541efac1bf",
   "metadata": {},
   "outputs": [
    {
     "name": "stdin",
     "output_type": "stream",
     "text": [
      "enter a number 6\n"
     ]
    },
    {
     "name": "stdout",
     "output_type": "stream",
     "text": [
      "720\n"
     ]
    }
   ],
   "source": [
    "def fact(num):\n",
    "    if num ==0 or num ==1:\n",
    "        return 1;\n",
    "    else:\n",
    "        return num * fact(num - 1)\n",
    "num=int(input('enter a number'))\n",
    "print(fact(num))"
   ]
  },
  {
   "cell_type": "code",
   "execution_count": null,
   "id": "b2cb8126-7539-47fd-84ac-021c9762b5b1",
   "metadata": {},
   "outputs": [],
   "source": []
  }
 ],
 "metadata": {
  "kernelspec": {
   "display_name": "Python 3 (ipykernel)",
   "language": "python",
   "name": "python3"
  },
  "language_info": {
   "codemirror_mode": {
    "name": "ipython",
    "version": 3
   },
   "file_extension": ".py",
   "mimetype": "text/x-python",
   "name": "python",
   "nbconvert_exporter": "python",
   "pygments_lexer": "ipython3",
   "version": "3.12.4"
  }
 },
 "nbformat": 4,
 "nbformat_minor": 5
}
