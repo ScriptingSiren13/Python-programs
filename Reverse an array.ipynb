{
 "cells": [
  {
   "cell_type": "markdown",
   "id": "8b6e905c-afc4-4583-8559-58b2728d8d28",
   "metadata": {},
   "source": [
    "<h3 style=\"color:#DE006F\">FOR A PREDEFINED ARRAY</h3>"
   ]
  },
  {
   "cell_type": "code",
   "execution_count": 3,
   "id": "e58974c5-7c73-415b-84f0-a2e10a0bd83a",
   "metadata": {},
   "outputs": [
    {
     "name": "stdout",
     "output_type": "stream",
     "text": [
      "[1, 5, 7, 2]\n"
     ]
    }
   ],
   "source": [
    "def reverse_arr(arr):\n",
    "    start=0;\n",
    "    end=len(arr)-1;\n",
    "    while start<end:\n",
    "        arr[start],arr[end]=arr[end],arr[start]\n",
    "        start +=1\n",
    "        end -=1\n",
    "    return arr\n",
    "\n",
    "arr=[2,7,5,1]\n",
    "print(reverse_arr(arr))"
   ]
  },
  {
   "cell_type": "markdown",
   "id": "32d8bdda-42ee-4876-970d-13ec550cd1a3",
   "metadata": {},
   "source": [
    "<h3 style=\"color:#DE006F\">TAKING THE ARRAY ELEMENTS FROM THE USER:</h3>"
   ]
  },
  {
   "cell_type": "code",
   "execution_count": 6,
   "id": "334eae36-5a2e-46f5-a73f-3523cd2762db",
   "metadata": {},
   "outputs": [
    {
     "name": "stdin",
     "output_type": "stream",
     "text": [
      "enter the elements seperated by spaces 5 8 3 5\n"
     ]
    },
    {
     "name": "stdout",
     "output_type": "stream",
     "text": [
      "[5, 3, 8, 5]\n"
     ]
    }
   ],
   "source": [
    "def reverse_arr(arr):\n",
    "    start=0;    #points to the element of the 0th index\n",
    "    end=len(arr) - 1;     #points to the element of the last index\n",
    "    while start<end:\n",
    "        arr[start],arr[end]=arr[end],arr[start]\n",
    "        start +=1;\n",
    "        end -=1;\n",
    "    return arr;\n",
    "\n",
    "user_input=input('enter the elements seperated by spaces')\n",
    "\n",
    "arr=list(map(int,user_input.split()))\n",
    "print(reverse_arr(arr))"
   ]
  },
  {
   "cell_type": "markdown",
   "id": "f31b115c-d794-45da-bc02-b6b3c21ea453",
   "metadata": {},
   "source": [
    "<h3 style=\"color:#DE006F\">Code with .reverse() Method</h3>"
   ]
  },
  {
   "cell_type": "code",
   "execution_count": 7,
   "id": "d51ee9ca-8ae0-48b9-b386-460a572f33e4",
   "metadata": {},
   "outputs": [
    {
     "name": "stdout",
     "output_type": "stream",
     "text": [
      "[8, 2, 5, 1]\n"
     ]
    }
   ],
   "source": [
    "def reverse_arr(arr):\n",
    "    arr.reverse();\n",
    "    return arr\n",
    "\n",
    "arr=[1,5,2,8]\n",
    "print(reverse_arr(arr))"
   ]
  },
  {
   "cell_type": "code",
   "execution_count": null,
   "id": "a28e7f1f-88e2-4f45-9b45-816c4316965b",
   "metadata": {},
   "outputs": [],
   "source": []
  }
 ],
 "metadata": {
  "kernelspec": {
   "display_name": "Python 3 (ipykernel)",
   "language": "python",
   "name": "python3"
  },
  "language_info": {
   "codemirror_mode": {
    "name": "ipython",
    "version": 3
   },
   "file_extension": ".py",
   "mimetype": "text/x-python",
   "name": "python",
   "nbconvert_exporter": "python",
   "pygments_lexer": "ipython3",
   "version": "3.12.4"
  }
 },
 "nbformat": 4,
 "nbformat_minor": 5
}
