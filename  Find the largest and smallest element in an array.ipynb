{
 "cells": [
  {
   "cell_type": "markdown",
   "id": "1f249f10-a431-47ca-9232-8e4c6630d408",
   "metadata": {},
   "source": [
    "<h3 style=\"color:#DE006F\">FOR A PREDEFINED ARRAY</h3>"
   ]
  },
  {
   "cell_type": "code",
   "execution_count": 3,
   "id": "1151a36a-8a97-4579-ab6d-2298081f4f0d",
   "metadata": {},
   "outputs": [
    {
     "name": "stdout",
     "output_type": "stream",
     "text": [
      "(1, 8)\n"
     ]
    }
   ],
   "source": [
    "def min_max(arr):\n",
    "    smallest=arr[0]\n",
    "    largest=arr[0]\n",
    "    for num in arr:\n",
    "        if num<smallest:\n",
    "            smallest=num    #updating the value of smallest\n",
    "        if num>largest:\n",
    "            largest=num    #updating the value of largest\n",
    "    return smallest, largest\n",
    "arr=[4,6,8,1]\n",
    "print(min_max(arr))\n",
    "        "
   ]
  },
  {
   "cell_type": "markdown",
   "id": "cc96d468-4c57-4c11-9112-7950e4a4f9bf",
   "metadata": {},
   "source": [
    "<h3 style=\"color:#DE006F\">TAKING THE ARRAY ELEMENTS FROM THE USER:</h3>"
   ]
  },
  {
   "cell_type": "code",
   "execution_count": 4,
   "id": "9aad7a4c-705b-43d5-bdbf-e2d61b15c7e5",
   "metadata": {},
   "outputs": [
    {
     "name": "stdin",
     "output_type": "stream",
     "text": [
      "Enter the elements seperated by space 1 6 8 4\n"
     ]
    },
    {
     "name": "stdout",
     "output_type": "stream",
     "text": [
      "1 8\n"
     ]
    }
   ],
   "source": [
    "def min_max(arr):\n",
    "    smallest=arr[0];\n",
    "    largest=arr[0];\n",
    "    for num in arr:\n",
    "        if num<smallest:\n",
    "            smallest=num;\n",
    "        if num>largest:\n",
    "            largest=num;\n",
    "    return smallest, largest\n",
    "    \n",
    "user_input=input('Enter the elements seperated by space')\n",
    "arr=list(map(int,user_input.split()))\n",
    "\n",
    "smallest,largest=min_max(arr)\n",
    "print(smallest,largest)"
   ]
  },
  {
   "cell_type": "code",
   "execution_count": null,
   "id": "ad1417a9-4018-4518-8621-dd86c763c788",
   "metadata": {},
   "outputs": [],
   "source": [
    "# user_input.split() splits the input string into a list of substrings (e.g., ['3', '5', '1', '2', '4']).\n",
    "# map(int, ...) converts each substring into an integer.\n",
    "# list(...) creates a list of these integers (e.g., [3, 5, 1, 2, 4])."
   ]
  }
 ],
 "metadata": {
  "kernelspec": {
   "display_name": "Python 3 (ipykernel)",
   "language": "python",
   "name": "python3"
  },
  "language_info": {
   "codemirror_mode": {
    "name": "ipython",
    "version": 3
   },
   "file_extension": ".py",
   "mimetype": "text/x-python",
   "name": "python",
   "nbconvert_exporter": "python",
   "pygments_lexer": "ipython3",
   "version": "3.12.4"
  }
 },
 "nbformat": 4,
 "nbformat_minor": 5
}
