{
 "cells": [
  {
   "cell_type": "code",
   "execution_count": 4,
   "id": "b78b9d27-0cb1-41b6-8adc-585cf8d371a0",
   "metadata": {},
   "outputs": [
    {
     "name": "stdin",
     "output_type": "stream",
     "text": [
      "Enter the value in km 7\n"
     ]
    },
    {
     "name": "stdout",
     "output_type": "stream",
     "text": [
      "The value of 7.0  km in miles is 4.349597\n"
     ]
    }
   ],
   "source": [
    "km=float(input(\"Enter the value in km\"))\n",
    "miles=0.621371*km\n",
    "print(\"The value of\", km, \" km in miles is\", miles)"
   ]
  },
  {
   "cell_type": "code",
   "execution_count": null,
   "id": "07f678e3-864a-43a4-aa6a-39370951e3f8",
   "metadata": {},
   "outputs": [],
   "source": []
  }
 ],
 "metadata": {
  "kernelspec": {
   "display_name": "Python 3 (ipykernel)",
   "language": "python",
   "name": "python3"
  },
  "language_info": {
   "codemirror_mode": {
    "name": "ipython",
    "version": 3
   },
   "file_extension": ".py",
   "mimetype": "text/x-python",
   "name": "python",
   "nbconvert_exporter": "python",
   "pygments_lexer": "ipython3",
   "version": "3.12.4"
  }
 },
 "nbformat": 4,
 "nbformat_minor": 5
}
