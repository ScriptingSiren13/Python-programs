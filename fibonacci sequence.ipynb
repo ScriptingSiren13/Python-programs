{
 "cells": [
  {
   "cell_type": "code",
   "execution_count": null,
   "id": "70b9a29b-1a69-47c5-a453-7d94a84da99a",
   "metadata": {},
   "outputs": [],
   "source": [
    "a=0;\n",
    "b=1;\n",
    "\n",
    "num=int(input('enter a number'));\n",
    "\n",
    "if num == 0:\n",
    "    print(0)\n",
    "elif num == 1:\n",
    "    print(1)\n",
    "else:\n",
    "    print(a);\n",
    "    print(b);\n",
    "    for i in range(1,num+1):\n",
    "        c=a+b;\n",
    "        a=b;\n",
    "        b=c;\n",
    "        print(c)\n"
   ]
  }
 ],
 "metadata": {
  "kernelspec": {
   "display_name": "Python 3 (ipykernel)",
   "language": "python",
   "name": "python3"
  },
  "language_info": {
   "codemirror_mode": {
    "name": "ipython",
    "version": 3
   },
   "file_extension": ".py",
   "mimetype": "text/x-python",
   "name": "python",
   "nbconvert_exporter": "python",
   "pygments_lexer": "ipython3",
   "version": "3.12.4"
  }
 },
 "nbformat": 4,
 "nbformat_minor": 5
}
