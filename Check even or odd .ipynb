{
 "cells": [
  {
   "cell_type": "markdown",
   "id": "8cc3a3cf-1d7a-47f7-a67f-8ab865f51786",
   "metadata": {},
   "source": [
    "<h1 style='color:#B00058'>Using Bitwise &</h1>"
   ]
  },
  {
   "cell_type": "code",
   "execution_count": 6,
   "id": "423b38fa-9cfa-4e3a-b372-bd49c53e98a9",
   "metadata": {},
   "outputs": [
    {
     "name": "stdin",
     "output_type": "stream",
     "text": [
      "enter the number 7\n"
     ]
    },
    {
     "name": "stdout",
     "output_type": "stream",
     "text": [
      "odd\n"
     ]
    }
   ],
   "source": [
    "def is_even(num):\n",
    "    if (num & 1) == 0:\n",
    "        return 'even'\n",
    "    else:\n",
    "        return 'odd'\n",
    "num=int(input('enter the number'))\n",
    "print(is_even(num))"
   ]
  },
  {
   "cell_type": "markdown",
   "id": "63c465b5-2a61-401e-8448-6627eedb838e",
   "metadata": {},
   "source": [
    "<h1 style='color:#B00058'> Using Division and Multiplication</h1>"
   ]
  },
  {
   "cell_type": "code",
   "execution_count": 11,
   "id": "d473965c-3e9f-4d0f-a224-d0c7e8bcfa48",
   "metadata": {},
   "outputs": [
    {
     "name": "stdin",
     "output_type": "stream",
     "text": [
      "enter the number 7\n"
     ]
    },
    {
     "name": "stdout",
     "output_type": "stream",
     "text": [
      "odd\n"
     ]
    }
   ],
   "source": [
    "def is_even(num):\n",
    "    if(num//2) * 2 ==num:\n",
    "        return 'even'\n",
    "    else:\n",
    "        return 'odd'\n",
    "num=int(input('enter the number'))\n",
    "\n",
    "print(is_even(num))"
   ]
  },
  {
   "cell_type": "markdown",
   "id": "06c19f1a-8de7-409b-ac99-f34b70cffec0",
   "metadata": {},
   "source": [
    "<h1 style='color:#B00058'>Using String Conversion</h1>"
   ]
  },
  {
   "cell_type": "code",
   "execution_count": 13,
   "id": "8fe0d4e3-0fb2-4b47-9b88-683ab83cd078",
   "metadata": {},
   "outputs": [
    {
     "name": "stdin",
     "output_type": "stream",
     "text": [
      "enter the number 8\n"
     ]
    },
    {
     "name": "stdout",
     "output_type": "stream",
     "text": [
      "even\n"
     ]
    }
   ],
   "source": [
    "def is_even(num):\n",
    "    if str(num)[-1] in '02468':\n",
    "        return 'even';\n",
    "    else:\n",
    "        return 'odd';\n",
    "\n",
    "num=int(input('enter the number'))\n",
    "print(is_even(num))"
   ]
  },
  {
   "cell_type": "markdown",
   "id": "a2f2a0d5-0e05-4541-82b2-f667203e176e",
   "metadata": {},
   "source": [
    "<h1 style='color:#B00058'>Using Modulus Operator</h1>"
   ]
  },
  {
   "cell_type": "code",
   "execution_count": 16,
   "id": "81edeb11-f180-4aa4-87e8-d48a5d81d99d",
   "metadata": {},
   "outputs": [
    {
     "name": "stdin",
     "output_type": "stream",
     "text": [
      "enter the number 8\n"
     ]
    },
    {
     "name": "stdout",
     "output_type": "stream",
     "text": [
      "even\n"
     ]
    }
   ],
   "source": [
    "def is_even(num):\n",
    "    if num %2 ==0:\n",
    "        return 'even';\n",
    "    else:\n",
    "        return 'odd'\n",
    "\n",
    "num=int(input('enter the number'))\n",
    "print(is_even(num))"
   ]
  },
  {
   "cell_type": "code",
   "execution_count": null,
   "id": "bf96eb57-202a-411c-bd13-70437086d890",
   "metadata": {},
   "outputs": [],
   "source": []
  }
 ],
 "metadata": {
  "kernelspec": {
   "display_name": "Python 3 (ipykernel)",
   "language": "python",
   "name": "python3"
  },
  "language_info": {
   "codemirror_mode": {
    "name": "ipython",
    "version": 3
   },
   "file_extension": ".py",
   "mimetype": "text/x-python",
   "name": "python",
   "nbconvert_exporter": "python",
   "pygments_lexer": "ipython3",
   "version": "3.12.4"
  }
 },
 "nbformat": 4,
 "nbformat_minor": 5
}
